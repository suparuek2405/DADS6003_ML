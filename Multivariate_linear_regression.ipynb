{
  "nbformat": 4,
  "nbformat_minor": 0,
  "metadata": {
    "colab": {
      "provenance": [],
      "authorship_tag": "ABX9TyMmRkRPUdOKew7LUqI11+g+",
      "include_colab_link": true
    },
    "kernelspec": {
      "name": "python3",
      "display_name": "Python 3"
    },
    "language_info": {
      "name": "python"
    }
  },
  "cells": [
    {
      "cell_type": "markdown",
      "metadata": {
        "id": "view-in-github",
        "colab_type": "text"
      },
      "source": [
        "<a href=\"https://colab.research.google.com/github/suparuek2405/DADS6003_ML/blob/main/Multivariate_linear_regression.ipynb\" target=\"_parent\"><img src=\"https://colab.research.google.com/assets/colab-badge.svg\" alt=\"Open In Colab\"/></a>"
      ]
    },
    {
      "cell_type": "markdown",
      "source": [
        "## Batch Gradient descent (Multiple linear regression)"
      ],
      "metadata": {
        "id": "bJKnfPH8F1nU"
      }
    },
    {
      "cell_type": "code",
      "source": [
        "import numpy as np\n",
        "np.set_printoptions(precision=2)"
      ],
      "metadata": {
        "id": "9pYLiXogGD66"
      },
      "execution_count": 7,
      "outputs": []
    },
    {
      "cell_type": "code",
      "source": [
        "def cost_function(theta, x, y, N):\n",
        "  y_hat = x.dot(theta)\n",
        "  c = (1/N)*np.sum((y_hat-y)**2)\n",
        "  return c"
      ],
      "metadata": {
        "id": "jDcwoJv8F0jb"
      },
      "execution_count": 34,
      "outputs": []
    },
    {
      "cell_type": "code",
      "source": [
        "def gradient_descent(alpha, x, y, ep=0.001, max_iter=10000):\n",
        "  converged = False\n",
        "  iter = 0\n",
        "  N = x.shape[0] # number of samples\n",
        "  print(\"Num of data = \",N)\n",
        "\n",
        "  # initial theta\n",
        "  theta =  np.random.random((x.shape[1],1))\n",
        "  print(\"Init theta.shape = \",theta.shape)\n",
        "\n",
        "  # total error, J(theta)\n",
        "  J = cost_function(theta, x, y, N)\n",
        "  print(\"First J = \",J)\n",
        "\n",
        "  # Iterate Loop\n",
        "  while not converged:\n",
        "\n",
        "    y_hat = x.dot(theta)\n",
        "    diff = y_hat - y\n",
        "    grad = x.T.dot(diff)\n",
        "\n",
        "    theta = theta - alpha * (1/N) * (grad)\n",
        "\n",
        "    assert theta.shape == (3,1) #This line makes sure that the shape of theta is still be the same.\n",
        "\n",
        "    # error\n",
        "    J2 = cost_function(theta, x, y, N)\n",
        "\n",
        "    if abs(J-J2) <= ep:\n",
        "        print(\"       Converged, iterations: \", iter, \"/\", max_iter)\n",
        "        converged = True\n",
        "\n",
        "    J = J2   # update error s\n",
        "    iter += 1  # update iter\n",
        "\n",
        "    if iter == max_iter:\n",
        "        print('       Max iterations exceeded!')\n",
        "        converged = True\n",
        "\n",
        "  #print(\"End converged iter = \",iter)\n",
        "  return theta"
      ],
      "metadata": {
        "id": "DaXAkGO2GC-j"
      },
      "execution_count": 9,
      "outputs": []
    },
    {
      "cell_type": "code",
      "source": [
        "if __name__ == '__main__':\n",
        "  x = np.array([[0,1,],[2,6],[3,8]]) #x1, x2\n",
        "  y = np.array([1,1,4])\n",
        "  x_b = np.c_[np.ones((x.shape[0],1)),x]\n",
        "\n",
        "  print(\"start main\")\n",
        "  print(x_b.shape)\n",
        "  y = y.reshape(-1,1)\n",
        "  print(y.shape)\n",
        "\n",
        "  alpha = 0.01 # learning rate\n",
        "  #Training process\n",
        "  theta = gradient_descent(alpha, x_b, y, ep=0.00000000000001, max_iter=1000000)\n",
        "  print (\"Theta = \", theta)\n",
        "\n",
        "  #predict trainned x\n",
        "  xtest = np.array([[4,9]])\n",
        "  xtest_b = np.c_[np.ones((xtest.shape[0],1)),xtest]\n",
        "  y_p = xtest_b.dot(theta)\n",
        "  print(\"y predict = \",y_p)"
      ],
      "metadata": {
        "colab": {
          "base_uri": "https://localhost:8080/"
        },
        "id": "X7YHdEgEGSXS",
        "outputId": "8d3c1261-852d-49da-95b5-a63ca6bf6250"
      },
      "execution_count": 10,
      "outputs": [
        {
          "output_type": "stream",
          "name": "stdout",
          "text": [
            "start main\n",
            "(3, 3)\n",
            "(3, 1)\n",
            "Num of data =  3\n",
            "Init theta.shape =  (3, 1)\n",
            "First J =  4.632542903625601\n",
            "       Converged, iterations:  363865 / 1000000\n",
            "Theta =  [[ 7.]\n",
            " [15.]\n",
            " [-6.]]\n",
            "y predict =  [[13.]]\n"
          ]
        }
      ]
    },
    {
      "cell_type": "markdown",
      "source": [
        "## Stochastic GD from scratch\n"
      ],
      "metadata": {
        "id": "7zrc4L9kT2_q"
      }
    },
    {
      "cell_type": "code",
      "source": [
        "import numpy as np\n",
        "def stochastic_gradient_descent(alpha, x, y, ep=0.001, max_iter=10000, decay_rate=0.01):\n",
        "  converged = False\n",
        "  iter = 0\n",
        "  N = x.shape[0] # number of samples\n",
        "  print(\"Num of data = \",N)\n",
        "\n",
        "  # initial theta\n",
        "  theta =  np.random.random((x.shape[1],1))\n",
        "  print(\"Init theta.shape = \",theta.shape)\n",
        "\n",
        "  # total error, J(theta)\n",
        "  J = cost_function(theta, x, y, N)\n",
        "  print(\"First J = \",J)\n",
        "\n",
        "  # Iterate Loop\n",
        "  while not converged:\n",
        "    # Learning rate decay\n",
        "    current_alpha = alpha / (1 + alpha*decay_rate * iter)\n",
        "\n",
        "    permutation = np.random.permutation(N)\n",
        "    x_shuffled = x[permutation]\n",
        "    y_shuffled = y[permutation]\n",
        "    for i in range(N):\n",
        "      y_hat = x[i:i+1].dot(theta)\n",
        "      diff = y_hat - y[i:i+1]\n",
        "      grad = x[i:i+1].T.dot(diff)\n",
        "\n",
        "      theta = theta - alpha * grad\n",
        "\n",
        "      assert theta.shape == (3,1)\n",
        "\n",
        "    # error\n",
        "    J2 = cost_function(theta, x, y, N)\n",
        "\n",
        "    if abs(J-J2) <= ep:\n",
        "      print(\"       Converged, iterations: \", iter, \"/\", max_iter)\n",
        "      print(f\"       The last learning rate = {current_alpha}\")\n",
        "      converged = True\n",
        "\n",
        "    J = J2\n",
        "    iter += 1\n",
        "\n",
        "    if iter == max_iter:\n",
        "      print('       Max iterations exceeded!')\n",
        "      converged = True\n",
        "\n",
        "  return theta\n"
      ],
      "metadata": {
        "id": "ZUlIgh8gGy16"
      },
      "execution_count": 48,
      "outputs": []
    },
    {
      "cell_type": "code",
      "source": [
        "if __name__ == '__main__':\n",
        "  x = np.array([[0,1,],[2,6],[3,8]]) #x1, x2\n",
        "  y = np.array([1,1,4])\n",
        "  x_b = np.c_[np.ones((x.shape[0],1)),x]\n",
        "\n",
        "  print(\"start main\")\n",
        "  print(x_b.shape)\n",
        "  y = y.reshape(-1,1)\n",
        "  print(y.shape)\n",
        "\n",
        "  alpha = 0.01 # learning rate\n",
        "  #Training process\n",
        "  theta = stochastic_gradient_descent(alpha, x_b, y, ep=0.000000000001, max_iter=1000000, decay_rate=0.01)\n",
        "  print (\"Theta = \", theta)\n",
        "\n",
        "  #predict trainned x\n",
        "  xtest = np.array([[4,9]])\n",
        "  xtest_b = np.c_[np.ones((xtest.shape[0],1)),xtest]\n",
        "  y_p = xtest_b.dot(theta)\n",
        "  print(\"y predict = \",y_p)"
      ],
      "metadata": {
        "colab": {
          "base_uri": "https://localhost:8080/"
        },
        "id": "CPwB5eEvVjPw",
        "outputId": "223d5dcf-1637-4b57-b972-e4f563fc9615"
      },
      "execution_count": 49,
      "outputs": [
        {
          "output_type": "stream",
          "name": "stdout",
          "text": [
            "start main\n",
            "(3, 3)\n",
            "(3, 1)\n",
            "Num of data =  3\n",
            "Init theta.shape =  (3, 1)\n",
            "First J =  2.596975524569722\n",
            "       Converged, iterations:  76312 / 1000000\n",
            "       The last learning rate = 0.0011585874501807397\n",
            "Theta =  [[ 7.]\n",
            " [15.]\n",
            " [-6.]]\n",
            "y predict =  [[13.]]\n"
          ]
        }
      ]
    },
    {
      "cell_type": "markdown",
      "source": [
        "## Stochastic GD with SKlearn"
      ],
      "metadata": {
        "id": "J1Q64oGaaqHs"
      }
    },
    {
      "cell_type": "code",
      "source": [
        "from sklearn.linear_model import SGDRegressor\n",
        "\n",
        "model = SGDRegressor(learning_rate='adaptive', eta0=0.01, penalty=None, max_iter=1000000, random_state=42)\n",
        "x = np.array([[0,1,],[2,6],[3,8]]) #x1, x2\n",
        "y = np.array([1,1,4])\n",
        "model.fit(x, y)\n",
        "print(model.intercept_,\" , \",model.coef_)\n",
        "\n",
        "xtest = np.array([[4,9]])\n",
        "y_p = model.predict(xtest)\n",
        "print(\"y predict = \",y_p)\n",
        "\n",
        "from sklearn.linear_model import LinearRegression\n",
        "model = LinearRegression()\n",
        "model.fit(x, y)\n",
        "print(model.intercept_, model.coef_)"
      ],
      "metadata": {
        "colab": {
          "base_uri": "https://localhost:8080/"
        },
        "id": "DG6WLJpCas7K",
        "outputId": "a745ac6b-decc-401b-88ed-8da08e7d2358"
      },
      "execution_count": 81,
      "outputs": [
        {
          "output_type": "stream",
          "name": "stdout",
          "text": [
            "[0.06]  ,  [0.14 0.33]\n",
            "y predict =  [3.63]\n",
            "6.999999999999989 [15. -6.]\n"
          ]
        }
      ]
    },
    {
      "cell_type": "markdown",
      "source": [
        "## Mini-batch GD (size = 2)"
      ],
      "metadata": {
        "id": "8v1uQg3Aexy6"
      }
    },
    {
      "cell_type": "code",
      "source": [
        "import numpy as np\n",
        "\n",
        "def minibatch_gradient_descent(alpha, x, y, batch_size=2, ep=0.001, max_iter=10000000, decay_rate=0.01):\n",
        "    converged = False\n",
        "    iter = 0\n",
        "    N = x.shape[0]  # number of samples\n",
        "    n_features = x.shape[1]  # number of features\n",
        "\n",
        "    print(\"Num of data =\", N)\n",
        "\n",
        "    # initial theta (size of (n_features, 1))\n",
        "    theta = np.random.random((n_features, 1))\n",
        "    print(\"Init theta.shape =\", theta.shape)\n",
        "\n",
        "    # total error, J(theta)\n",
        "    J = cost_function(theta, x, y, N)\n",
        "    print(\"First J =\", J)\n",
        "\n",
        "    # Iterate Loop\n",
        "    while not converged and iter < max_iter:\n",
        "        # Learning rate decay\n",
        "        current_alpha = alpha / (1 + alpha*decay_rate * iter)\n",
        "\n",
        "        # Shuffle data\n",
        "        permutation = np.random.permutation(N)\n",
        "        x_shuffled = x[permutation]\n",
        "        y_shuffled = y[permutation]\n",
        "\n",
        "        # Loop over mini-batches\n",
        "        for i in range(0, N, batch_size):\n",
        "            x_batch = x_shuffled[i:i+batch_size]\n",
        "            y_batch = y_shuffled[i:i+batch_size].reshape(-1, 1)\n",
        "\n",
        "            # Make predictions\n",
        "            y_hat = x_batch.dot(theta)\n",
        "            diff = y_hat - y_batch\n",
        "\n",
        "            # Calculate gradient\n",
        "            grad = (x_batch.T.dot(diff)) / x_batch.shape[0]  # use the actual batch size\n",
        "\n",
        "            # Update theta\n",
        "            theta = theta - current_alpha * grad\n",
        "\n",
        "        # Calculate new cost\n",
        "        J2 = cost_function(theta, x, y, N)\n",
        "\n",
        "        # Check for convergence\n",
        "        if abs(J - J2) <= ep:\n",
        "            print(\"       Converged, iterations:\", iter, \"/\", max_iter)\n",
        "            print(f\"       The last learning rate = {current_alpha}\")\n",
        "            converged = True\n",
        "\n",
        "        # Update for next iteration\n",
        "        J = J2\n",
        "        iter += 1\n",
        "\n",
        "    if iter == max_iter:\n",
        "        print('Max iterations exceeded!')\n",
        "\n",
        "    return theta\n"
      ],
      "metadata": {
        "id": "ptesBb2Qe1Gc"
      },
      "execution_count": 80,
      "outputs": []
    },
    {
      "cell_type": "code",
      "source": [
        "if __name__ == '__main__':\n",
        "  x = np.array([[0,1,],[2,6],[3,8]]) #x1, x2\n",
        "  y = np.array([1,1,4])\n",
        "  x_b = np.c_[np.ones((x.shape[0],1)),x]\n",
        "\n",
        "  print(\"start main\")\n",
        "  print(x_b.shape)\n",
        "  y = y.reshape(-1,1)\n",
        "  print(y.shape)\n",
        "\n",
        "  alpha = 0.01 # learning rate\n",
        "  #Training process\n",
        "  theta = minibatch_gradient_descent(alpha, x_b, y, batch_size=2, ep=0.0000000000001, max_iter=1000000, decay_rate=0.000001)\n",
        "  print (\"Theta = \", theta)\n",
        "\n",
        "  #predict trainned x\n",
        "  xtest = np.array([[4,9]])\n",
        "  xtest_b = np.c_[np.ones((xtest.shape[0],1)),xtest]\n",
        "  y_p = xtest_b.dot(theta)\n",
        "  print(\"y predict = \",y_p)\n"
      ],
      "metadata": {
        "colab": {
          "base_uri": "https://localhost:8080/"
        },
        "id": "ZkbrkYblJWQe",
        "outputId": "2058c3bc-a110-48ae-b7c2-3ae9f0dcb174"
      },
      "execution_count": 73,
      "outputs": [
        {
          "output_type": "stream",
          "name": "stdout",
          "text": [
            "start main\n",
            "(3, 3)\n",
            "(3, 1)\n",
            "Num of data = 3\n",
            "Init theta.shape = (3, 1)\n",
            "First J = 1.2486834813701198\n",
            "       Converged, iterations: 119211 / 1000000\n",
            "       The last learning rate = 0.009988093094341304\n",
            "Theta =  [[ 7.]\n",
            " [15.]\n",
            " [-6.]]\n",
            "y predict =  [[13.]]\n"
          ]
        }
      ]
    },
    {
      "cell_type": "code",
      "source": [],
      "metadata": {
        "id": "UbylaCpQRkwg"
      },
      "execution_count": null,
      "outputs": []
    }
  ]
}